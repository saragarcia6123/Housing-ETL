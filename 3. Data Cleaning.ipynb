{
 "cells": [
  {
   "cell_type": "code",
   "execution_count": 3,
   "id": "7223940f-481f-4dc8-8740-4f8c2c0c2a67",
   "metadata": {},
   "outputs": [],
   "source": [
    "import pandas as pd\n",
    "import numpy as np\n",
    "import re\n",
    "import os\n",
    "from datetime import datetime\n",
    "import warnings\n",
    "warnings.filterwarnings(\"ignore\", category=FutureWarning)"
   ]
  },
  {
   "cell_type": "code",
   "execution_count": 4,
   "id": "c94622a6-420b-44fe-9615-f250c77f616f",
   "metadata": {},
   "outputs": [],
   "source": [
    "def perform_df_clean(raw_df):\n",
    "\n",
    "    df = raw_df.copy()\n",
    "    \n",
    "    # Rename columns to snake_case\n",
    "    df.columns = (\n",
    "        df.columns.str.strip()\n",
    "                 .str.lower()\n",
    "                 .str.replace(r'[^\\w\\s]', '', regex=True)\n",
    "                 .str.replace(r'\\s+', '_', regex=True)\n",
    "    )\n",
    "\n",
    "    df = df.drop(columns=['parking'])\n",
    "    \n",
    "    # Drop columns where more than 50% of values are NaN\n",
    "    df = df.dropna(axis=1, thresh=int(0.5 * len(df)))\n",
    "    \n",
    "    # Extract postcodes\n",
    "    postcode_pattern = r'([GI]{2}R 0[A]{2})|(([A-Z][0-9]{1,2})|([A-Z][A-HJ-Y][0-9]{1,2})|([A-Z][0-9][A-Z])|([A-Z][A-HJ-Y][0-9][A-Z]?))'\n",
    "    df.loc[:, 'postcode'] = df['address'].apply(lambda x: re.search(postcode_pattern, x).group() if re.search(postcode_pattern, x) else np.nan)\n",
    "    \n",
    "    # Cast ints\n",
    "    df.loc[:, 'bedrooms'] = df['bedrooms'].astype('Int64', errors='ignore')\n",
    "    df.loc[:, 'bathrooms'] = df['bathrooms'].astype('Int64', errors='ignore')\n",
    "    \n",
    "    # Parse amounts\n",
    "    df.loc[:, 'price_pcm'] = df['price_pcm'].replace({'£': '', ',': '', ' pcm': ''}, regex=True).astype(float)\n",
    "    if 'price_per_week' in df.columns:\n",
    "        df.loc[:, 'price_per_week'] = df['price_per_week'].replace({'£': '', ',': '', ' pw': ''}, regex=True).astype(float)\n",
    "\n",
    "    if 'let_available_date' in df.columns:\n",
    "        # Convert dates\n",
    "        now = datetime.today().strftime('%d/%m/%Y')\n",
    "        df.loc[:, 'let_available_date'] = df['let_available_date'].replace('Now', now)\n",
    "        df.loc[:, 'let_available_date'] = pd.to_datetime(df['let_available_date'], format='%d/%m/%Y', errors='coerce')\n",
    "    \n",
    "    # Categorize\n",
    "    \n",
    "    category_cols = ['property_type', 'postcode']\n",
    "    \n",
    "    if 'council_tax' in df.columns:\n",
    "        df.loc[:, 'council_tax'] = df['council_tax'].replace({'Band: ': ''}, regex=True)\n",
    "        category_cols.append('council_tax')\n",
    "    if 'furnish_type' in df.columns:\n",
    "        category_cols.append('furnish_type')\n",
    "    if 'tenure' in df.columns:\n",
    "        category_cols.append('tenure')\n",
    "    if 'let_type' in df.columns:\n",
    "        category_cols.append('let_type')\n",
    "        \n",
    "    df.loc[:, category_cols] = df[category_cols].astype('category')\n",
    "\n",
    "    return df"
   ]
  },
  {
   "cell_type": "code",
   "execution_count": 5,
   "id": "9a649b74-5696-49f8-917d-747444010ab3",
   "metadata": {},
   "outputs": [],
   "source": [
    "def clean_dfs(parent_folder):\n",
    "\n",
    "    for location in os.listdir(parent_folder):\n",
    "        location_path = os.path.join(parent_folder, location)\n",
    "        \n",
    "        if os.path.isdir(location_path):\n",
    "            csv_file_path = os.path.join(location_path, 'data.csv')\n",
    "            \n",
    "            if os.path.exists(csv_file_path):\n",
    "                raw_df = pd.read_csv(csv_file_path, na_values=['Ask agent', 'POA'])\n",
    "                clean_df = perform_df_clean(raw_df)\n",
    "                output_csv = os.path.join(location_path, 'data_clean.csv')\n",
    "                clean_df.to_csv(output_csv, index=False)\n",
    "                os.chmod(output_csv, 0o444) # Make file read-only\n",
    "                print(f'Cleaned file saved: {output_csv}')"
   ]
  },
  {
   "cell_type": "code",
   "execution_count": 6,
   "id": "d462220a-e767-4169-b801-84493d0e63c0",
   "metadata": {},
   "outputs": [
    {
     "name": "stdout",
     "output_type": "stream",
     "text": [
      "Cleaned file saved: rent/Nottingham/data_clean.csv\n",
      "Cleaned file saved: rent/Newcastle-Under-Lyme/data_clean.csv\n",
      "Cleaned file saved: rent/Lancaster/data_clean.csv\n",
      "Cleaned file saved: rent/York/data_clean.csv\n",
      "Cleaned file saved: rent/Loughborough/data_clean.csv\n",
      "Cleaned file saved: sale/Nottingham/data_clean.csv\n",
      "Cleaned file saved: sale/Newcastle-Under-Lyme/data_clean.csv\n",
      "Cleaned file saved: sale/Loughborough/data_clean.csv\n",
      "Cleaned file saved: sale/Lancaster/data_clean.csv\n",
      "Cleaned file saved: sale/York/data_clean.csv\n"
     ]
    }
   ],
   "source": [
    "clean_dfs('rent')\n",
    "clean_dfs('sale')"
   ]
  }
 ],
 "metadata": {
  "kernelspec": {
   "display_name": "Python 3 (ipykernel)",
   "language": "python",
   "name": "python3"
  },
  "language_info": {
   "codemirror_mode": {
    "name": "ipython",
    "version": 3
   },
   "file_extension": ".py",
   "mimetype": "text/x-python",
   "name": "python",
   "nbconvert_exporter": "python",
   "pygments_lexer": "ipython3",
   "version": "3.13.0"
  }
 },
 "nbformat": 4,
 "nbformat_minor": 5
}
