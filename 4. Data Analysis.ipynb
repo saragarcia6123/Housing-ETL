{
 "cells": [
  {
   "cell_type": "code",
   "execution_count": 1,
   "id": "286afac4-24d8-4ef2-bfb8-4f466f432306",
   "metadata": {},
   "outputs": [],
   "source": [
    "from scraperDB import DBManager\n",
    "import pandas as pd\n",
    "import matplotlib.pyplot as plt\n",
    "import pandas as pd\n",
    "import numpy as np\n",
    "import os"
   ]
  },
  {
   "cell_type": "code",
   "execution_count": 2,
   "id": "3e8dfb3f-53e3-40c9-8949-12b31c1cba32",
   "metadata": {},
   "outputs": [],
   "source": [
    "def load_dfs(parent_folder):\n",
    "    dfs = {}\n",
    "    for location in os.listdir(parent_folder):\n",
    "        location_path = os.path.join(parent_folder, location)\n",
    "        table_name = os.path.basename(location_path)\n",
    "        if os.path.isdir(location_path):\n",
    "            file_path = os.path.join(location_path, 'data_clean.csv')\n",
    "            if os.path.exists(file_path):\n",
    "                df = pd.read_csv(file_path)\n",
    "                dfs[table_name] = df\n",
    "                print(f'DataFrame from {location_path} loaded')\n",
    "    return dfs"
   ]
  },
  {
   "cell_type": "code",
   "execution_count": 3,
   "id": "a77b2b9f-f193-42b9-8067-2b3dcd7d0ba4",
   "metadata": {},
   "outputs": [
    {
     "name": "stdout",
     "output_type": "stream",
     "text": [
      "DataFrame from rent/Nottingham loaded\n",
      "DataFrame from rent/Newcastle-Under-Lyme loaded\n",
      "DataFrame from rent/Lancaster loaded\n",
      "DataFrame from rent/York loaded\n",
      "DataFrame from rent/Loughborough loaded\n",
      "DataFrame from sale/Nottingham loaded\n",
      "DataFrame from sale/Newcastle-Under-Lyme loaded\n",
      "DataFrame from sale/Loughborough loaded\n",
      "DataFrame from sale/Lancaster loaded\n",
      "DataFrame from sale/York loaded\n"
     ]
    }
   ],
   "source": [
    "data = {}\n",
    "data['rent'] = load_dfs('rent')\n",
    "data['sale'] = load_dfs('sale')"
   ]
  },
  {
   "cell_type": "code",
   "execution_count": 5,
   "id": "d60c9849-c813-483a-b1b4-cd46ff049205",
   "metadata": {},
   "outputs": [
    {
     "name": "stdout",
     "output_type": "stream",
     "text": [
      "Initialized new instance of DBM\n",
      "Database Nottingham_rent initialized.\n",
      "Locked Nottingham_rent\n",
      "Connected to 'Nottingham_rent'.\n",
      "Table 'original' created.\n",
      "Loaded DataFrame into table 'original' at 'scraperDB/databases/Nottingham_rent/original.csv'.\n",
      "Unlocked Nottingham_rent\n",
      "Disconnected from 'Nottingham_rent'.\n",
      "Database Newcastle-Under-Lyme_rent initialized.\n",
      "Locked Newcastle-Under-Lyme_rent\n",
      "Connected to 'Newcastle-Under-Lyme_rent'.\n",
      "Table 'original' created.\n",
      "Loaded DataFrame into table 'original' at 'scraperDB/databases/Newcastle-Under-Lyme_rent/original.csv'.\n",
      "Unlocked Newcastle-Under-Lyme_rent\n",
      "Disconnected from 'Newcastle-Under-Lyme_rent'.\n",
      "Database Lancaster_rent initialized.\n",
      "Locked Lancaster_rent\n",
      "Connected to 'Lancaster_rent'.\n",
      "Table 'original' created.\n",
      "Loaded DataFrame into table 'original' at 'scraperDB/databases/Lancaster_rent/original.csv'.\n",
      "Unlocked Lancaster_rent\n",
      "Disconnected from 'Lancaster_rent'.\n",
      "Database York_rent initialized.\n",
      "Locked York_rent\n",
      "Connected to 'York_rent'.\n",
      "Table 'original' created.\n",
      "Loaded DataFrame into table 'original' at 'scraperDB/databases/York_rent/original.csv'.\n",
      "Unlocked York_rent\n",
      "Disconnected from 'York_rent'.\n",
      "Database Loughborough_rent initialized.\n",
      "Locked Loughborough_rent\n",
      "Connected to 'Loughborough_rent'.\n",
      "Table 'original' created.\n",
      "Loaded DataFrame into table 'original' at 'scraperDB/databases/Loughborough_rent/original.csv'.\n",
      "Unlocked Loughborough_rent\n",
      "Disconnected from 'Loughborough_rent'.\n",
      "Database Nottingham_sale initialized.\n",
      "Locked Nottingham_sale\n",
      "Connected to 'Nottingham_sale'.\n",
      "Table 'original' created.\n",
      "Loaded DataFrame into table 'original' at 'scraperDB/databases/Nottingham_sale/original.csv'.\n",
      "Unlocked Nottingham_sale\n",
      "Disconnected from 'Nottingham_sale'.\n",
      "Database Newcastle-Under-Lyme_sale initialized.\n",
      "Locked Newcastle-Under-Lyme_sale\n",
      "Connected to 'Newcastle-Under-Lyme_sale'.\n",
      "Table 'original' created.\n",
      "Loaded DataFrame into table 'original' at 'scraperDB/databases/Newcastle-Under-Lyme_sale/original.csv'.\n",
      "Unlocked Newcastle-Under-Lyme_sale\n",
      "Disconnected from 'Newcastle-Under-Lyme_sale'.\n",
      "Database Loughborough_sale initialized.\n",
      "Locked Loughborough_sale\n",
      "Connected to 'Loughborough_sale'.\n",
      "Table 'original' created.\n",
      "Loaded DataFrame into table 'original' at 'scraperDB/databases/Loughborough_sale/original.csv'.\n",
      "Unlocked Loughborough_sale\n",
      "Disconnected from 'Loughborough_sale'.\n",
      "Database Lancaster_sale initialized.\n",
      "Locked Lancaster_sale\n",
      "Connected to 'Lancaster_sale'.\n",
      "Table 'original' created.\n",
      "Loaded DataFrame into table 'original' at 'scraperDB/databases/Lancaster_sale/original.csv'.\n",
      "Unlocked Lancaster_sale\n",
      "Disconnected from 'Lancaster_sale'.\n",
      "Database York_sale initialized.\n",
      "Locked York_sale\n",
      "Connected to 'York_sale'.\n",
      "Table 'original' created.\n",
      "Loaded DataFrame into table 'original' at 'scraperDB/databases/York_sale/original.csv'.\n",
      "Unlocked York_sale\n",
      "Disconnected from 'York_sale'.\n"
     ]
    }
   ],
   "source": [
    "dbm = DBManager.DBM()\n",
    "\n",
    "def generate_dbs(_dict, suffix):\n",
    "    for k, v in _dict.items():\n",
    "        db = f'{k}_{suffix}'\n",
    "        dbm.create_db(db)\n",
    "        dbm.connect(db, force=True)\n",
    "        dbm.create_table('original', v, force=True)\n",
    "        dbm.disconnect(force=True)\n",
    "\n",
    "generate_dbs(data['rent'], 'rent')\n",
    "generate_dbs(data['sale'], 'sale')"
   ]
  },
  {
   "cell_type": "code",
   "execution_count": null,
   "id": "982c8d5f-f93e-44d7-b399-93c2c4467e1e",
   "metadata": {},
   "outputs": [],
   "source": []
  }
 ],
 "metadata": {
  "kernelspec": {
   "display_name": "Python 3 (ipykernel)",
   "language": "python",
   "name": "python3"
  },
  "language_info": {
   "codemirror_mode": {
    "name": "ipython",
    "version": 3
   },
   "file_extension": ".py",
   "mimetype": "text/x-python",
   "name": "python",
   "nbconvert_exporter": "python",
   "pygments_lexer": "ipython3",
   "version": "3.13.0"
  }
 },
 "nbformat": 4,
 "nbformat_minor": 5
}
