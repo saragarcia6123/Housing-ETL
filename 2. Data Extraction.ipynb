{
 "cells": [
  {
   "cell_type": "code",
   "execution_count": 4,
   "id": "01627823-0128-43c2-916c-5b0045fad961",
   "metadata": {},
   "outputs": [],
   "source": [
    "import os\n",
    "import pandas as pd\n",
    "from bs4 import BeautifulSoup"
   ]
  },
  {
   "cell_type": "code",
   "execution_count": 5,
   "id": "20025c4d-3b40-4ee8-a14b-323bc47d04bb",
   "metadata": {},
   "outputs": [],
   "source": [
    "def extract_property_details(soup):\n",
    "    \n",
    "    property_details = {}\n",
    "    \n",
    "    address = soup.find(\"h1\", class_=\"_2uQQ3SV0eMHL1P6t5ZDo2q\")\n",
    "    if address:\n",
    "        property_details[\"address\"] = address.get_text(strip=True)\n",
    "    \n",
    "    price_pcm = soup.find(\"div\", class_=\"_1gfnqJ3Vtd1z40MlC0MzXu\")\n",
    "    if price_pcm:\n",
    "        property_details[\"price_pcm\"] = price_pcm.find('span').get_text(strip=True)\n",
    "    \n",
    "    price_per_week = soup.find(\"div\", class_=\"HXfWxKgwCdWTESd5VaU73\")\n",
    "    if price_per_week:\n",
    "        property_details[\"price_per_week\"] = price_per_week.contents[0].get_text(strip=True)\n",
    "    \n",
    "    letting_divs = soup.find_all(\"div\", class_=\"_2RnXSVJcWbWv4IpBC1Sng6\")\n",
    "    for div in letting_divs:\n",
    "        dt = div.find(\"dt\")\n",
    "        dd = div.find(\"dd\")\n",
    "        if dt and dd:\n",
    "            key = dt.get_text(strip=True)\n",
    "            contents = dd.contents\n",
    "            if contents:\n",
    "                if contents[0].get_text(strip=True) == \"£\":\n",
    "                    value = f\"{contents[0].get_text(strip=True)}{contents[1].get_text(strip=True)}\" if len(contents) > 1 else contents[0].text\n",
    "                else:\n",
    "                    value = contents[0].get_text(strip=True)\n",
    "            else:\n",
    "                value = None\n",
    "            property_details[key] = value\n",
    "    \n",
    "    key_elements = soup.find_all(\"span\", class_=\"ZBWaPR-rIda6ikyKpB_E2\")\n",
    "    value_elements = soup.find_all(\"p\", class_=\"_1hV1kqpVceE9m-QrX_hWDN\")\n",
    "    for i in range(len(key_elements)):\n",
    "        property_details[key_elements[i].get_text(strip=True)] = value_elements[i].get_text(strip=True)\n",
    "    \n",
    "    letting_divs_2 = soup.find_all(\"div\", class_=\"_9u6R9n55iQlZi-JF6H59W\")\n",
    "    for div in letting_divs_2:\n",
    "        dt = div.find(\"dt\")\n",
    "        dd = div.find(\"dd\")\n",
    "        if dt and dd and dd.contents:\n",
    "            key = dt.contents[0].get_text(strip=True)\n",
    "            span_tags = list(dd.find_all(\"span\"))\n",
    "            span_texts = [span.get_text(strip=True) for span in span_tags]\n",
    "            if span_texts:\n",
    "                value = ' '.join(span_texts)\n",
    "            else:\n",
    "                value = dd.get_text(strip=True)\n",
    "            property_details[key] = value\n",
    "    \n",
    "#    features = soup.find_all(\"li\", class_=\"lIhZ24u1NHMa5Y6gDH90A\")\n",
    "#    if len(features) != 0:\n",
    "#        key_features = []\n",
    "#        for feature in features:\n",
    "#            key_features.append(feature.text.strip())\n",
    "#       property_details[\"key_features\"] = key_features\n",
    "    \n",
    "    return property_details"
   ]
  },
  {
   "cell_type": "code",
   "execution_count": 6,
   "id": "2c04b63f-0bba-4f97-897d-c94e7f7fd25b",
   "metadata": {},
   "outputs": [],
   "source": [
    "def extract_from_path(path):\n",
    "    soups_folder = os.path.join(path, \"soups\")\n",
    "    property_details = []\n",
    "\n",
    "    for soup_file in os.listdir(soups_folder):\n",
    "        soup_path = os.path.join(soups_folder, soup_file)\n",
    "        if os.path.isfile(soup_path) and soup_file.endswith(\".html\"):\n",
    "            with open(soup_path, \"r\", encoding=\"utf-8\") as file:\n",
    "                soup = BeautifulSoup(file.read(), \"html.parser\")\n",
    "                details = extract_property_details(soup)\n",
    "                if details:\n",
    "                    property_details.append(details)\n",
    "\n",
    "    return pd.DataFrame(property_details)"
   ]
  },
  {
   "cell_type": "code",
   "execution_count": 7,
   "id": "e79a597a-5c4b-4d67-aaed-203d1bdafe0d",
   "metadata": {},
   "outputs": [],
   "source": [
    "def extract_all(base_path):\n",
    "    locations = [loc for loc in os.listdir(base_path) if os.path.isdir(os.path.join(base_path, loc)) and not loc.startswith('.')]\n",
    "    for location in locations:\n",
    "        location_path = os.path.join(base_path, location)\n",
    "        output_csv = os.path.join(location_path, \"data.csv\")\n",
    "        df = extract_from_path(location_path)\n",
    "        df.to_csv(output_csv, index=False)\n",
    "        os.chmod(output_csv, 0o444) # Make file read-only\n",
    "        print(f\"Saved {output_csv}\")"
   ]
  },
  {
   "cell_type": "code",
   "execution_count": 8,
   "id": "1254a3c2-7cd6-442c-9203-30dc9ca8cf63",
   "metadata": {},
   "outputs": [
    {
     "name": "stdout",
     "output_type": "stream",
     "text": [
      "Saved rent/Nottingham/data.csv\n",
      "Saved rent/Newcastle-Under-Lyme/data.csv\n",
      "Saved rent/Lancaster/data.csv\n",
      "Saved rent/York/data.csv\n",
      "Saved rent/Loughborough/data.csv\n",
      "Saved sale/Nottingham/data.csv\n",
      "Saved sale/Newcastle-Under-Lyme/data.csv\n",
      "Saved sale/Loughborough/data.csv\n",
      "Saved sale/Lancaster/data.csv\n",
      "Saved sale/York/data.csv\n"
     ]
    }
   ],
   "source": [
    "extract_all(\"rent\")\n",
    "extract_all(\"sale\")"
   ]
  }
 ],
 "metadata": {
  "kernelspec": {
   "display_name": "Python 3 (ipykernel)",
   "language": "python",
   "name": "python3"
  },
  "language_info": {
   "codemirror_mode": {
    "name": "ipython",
    "version": 3
   },
   "file_extension": ".py",
   "mimetype": "text/x-python",
   "name": "python",
   "nbconvert_exporter": "python",
   "pygments_lexer": "ipython3",
   "version": "3.13.0"
  }
 },
 "nbformat": 4,
 "nbformat_minor": 5
}
